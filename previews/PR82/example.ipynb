{
 "cells": [
  {
   "cell_type": "markdown",
   "source": [
    "The environment used in this tutorial is the following [Project.toml](https://github.com/JuliaSmoothOptimizers/DCISolver.jl/blob/gh-pages/Project.toml) and [Manifest.toml](https://github.com/JuliaSmoothOptimizers/DCISolver.jl/blob/gh-pages/Manifest.toml)."
   ],
   "metadata": {}
  },
  {
   "cell_type": "markdown",
   "source": [
    "# Solve Large-Scale Problem with DCISolver"
   ],
   "metadata": {}
  },
  {
   "cell_type": "markdown",
   "source": [
    "In this tutorial we use `dci` to solve a large-scale optimization problem resulting from the discretization of a PDE-constrained optimization problem and compare the solve with Ipopt."
   ],
   "metadata": {}
  },
  {
   "cell_type": "markdown",
   "source": [
    "## Problem Statement"
   ],
   "metadata": {}
  },
  {
   "cell_type": "markdown",
   "source": [
    "Let Ω = (-1,1)², we solve the following distributed Poisson control problem with Dirichlet boundary:\n",
    "$$\n",
    "   \\left\\lbrace\n",
    "   \\begin{aligned}\n",
    "      \\min_{y \\in H^1_0, u \\in H^1} \\quad &  \\frac{1}{2} \\int_\\Omega |y(x) - y_d(x)|^2dx + \\frac{\\alpha}{2} \\int_\\Omega |u|^2dx \\\\\n",
    "      \\text{s.t.} & -\\Delta y = h + u, \\quad x \\in \\Omega, \\\\\n",
    "                  & y = 0, \\quad x \\in \\partial \\Omega,\n",
    "   \\end{aligned}\n",
    "   \\right.\n",
    "$$\n",
    "where yd(x) = -x₁² and α = 1e-2.\n",
    "The force term is h(x₁, x₂) = - sin(ω x₁)sin(ω x₂) with  ω = π - 1/8."
   ],
   "metadata": {}
  },
  {
   "cell_type": "markdown",
   "source": [
    "We refer to [Gridap.jl](https://github.com/gridap/Gridap.jl) for more details on modeling PDEs and [PDENLPModels.jl](https://github.com/JuliaSmoothOptimizers/PDENLPModels.jl) for PDE-constrained optimization problems."
   ],
   "metadata": {}
  },
  {
   "outputs": [],
   "cell_type": "code",
   "source": [
    "using Gridap, PDENLPModels"
   ],
   "metadata": {},
   "execution_count": null
  },
  {
   "cell_type": "markdown",
   "source": [
    "Definition of the domain and discretization"
   ],
   "metadata": {}
  },
  {
   "outputs": [],
   "cell_type": "code",
   "source": [
    "n = 20\n",
    "domain = (-1, 1, -1, 1)\n",
    "partition = (n, n)\n",
    "model = CartesianDiscreteModel(domain, partition)"
   ],
   "metadata": {},
   "execution_count": null
  },
  {
   "cell_type": "markdown",
   "source": [
    "Definition of the FE-spaces"
   ],
   "metadata": {}
  },
  {
   "outputs": [],
   "cell_type": "code",
   "source": [
    "reffe = ReferenceFE(lagrangian, Float64, 2)\n",
    "Xpde = TestFESpace(model, reffe; conformity = :H1, dirichlet_tags = \"boundary\")\n",
    "y0(x) = 0.0\n",
    "Ypde = TrialFESpace(Xpde, y0)\n",
    "\n",
    "reffe_con = ReferenceFE(lagrangian, Float64, 1)\n",
    "Xcon = TestFESpace(model, reffe_con; conformity = :H1)\n",
    "Ycon = TrialFESpace(Xcon)\n",
    "Y = MultiFieldFESpace([Ypde, Ycon])"
   ],
   "metadata": {},
   "execution_count": null
  },
  {
   "cell_type": "markdown",
   "source": [
    "Integration machinery"
   ],
   "metadata": {}
  },
  {
   "outputs": [],
   "cell_type": "code",
   "source": [
    "trian = Triangulation(model)\n",
    "degree = 1\n",
    "dΩ = Measure(trian, degree)"
   ],
   "metadata": {},
   "execution_count": null
  },
  {
   "cell_type": "markdown",
   "source": [
    "Objective function"
   ],
   "metadata": {}
  },
  {
   "outputs": [],
   "cell_type": "code",
   "source": [
    "yd(x) = -x[1]^2\n",
    "α = 1e-2\n",
    "function f(y, u)\n",
    "  ∫(0.5 * (yd - y) * (yd - y) + 0.5 * α * u * u) * dΩ\n",
    "end"
   ],
   "metadata": {},
   "execution_count": null
  },
  {
   "cell_type": "markdown",
   "source": [
    "Definition of the constraint operator"
   ],
   "metadata": {}
  },
  {
   "outputs": [],
   "cell_type": "code",
   "source": [
    "ω = π - 1 / 8\n",
    "h(x) = -sin(ω * x[1]) * sin(ω * x[2])\n",
    "function res(y, u, v)\n",
    "  ∫(∇(v) ⊙ ∇(y) - v * u - v * h) * dΩ\n",
    "end\n",
    "op = FEOperator(res, Y, Xpde)"
   ],
   "metadata": {},
   "execution_count": null
  },
  {
   "cell_type": "markdown",
   "source": [
    "Definition of the initial guess"
   ],
   "metadata": {}
  },
  {
   "outputs": [],
   "cell_type": "code",
   "source": [
    "npde = Gridap.FESpaces.num_free_dofs(Ypde)\n",
    "ncon = Gridap.FESpaces.num_free_dofs(Ycon)\n",
    "x0 = zeros(npde + ncon);"
   ],
   "metadata": {},
   "execution_count": null
  },
  {
   "cell_type": "markdown",
   "source": [
    "Overall, we built a GridapPDENLPModel, which implements the [NLPModels.jl](https://github.com/JuliaSmoothOptimizers/NLPModels.jl) API."
   ],
   "metadata": {}
  },
  {
   "outputs": [],
   "cell_type": "code",
   "source": [
    "nlp = GridapPDENLPModel(x0, f, trian, Ypde, Ycon, Xpde, Xcon, op, name = \"Control elastic membrane\")\n",
    "\n",
    "(nlp.meta.nvar, nlp.meta.ncon)"
   ],
   "metadata": {},
   "execution_count": null
  },
  {
   "cell_type": "markdown",
   "source": [
    "## Find a Feasible Point"
   ],
   "metadata": {}
  },
  {
   "cell_type": "markdown",
   "source": [
    "Before solving the previously defined model, we will first improve our initial guess.\n",
    "We use `FeasibilityResidual` from [NLPModelsModifiers.jl](https://github.com/JuliaSmoothOptimizers/NLPModelsModifiers.jl) to convert the NLPModel as an NLSModel.\n",
    "Then, using `trunk`, a solver for least-squares problems implemented in [JSOSolvers.jl](https://github.com/JuliaSmoothOptimizers/JSOSolvers.jl), we find An\n",
    "improved guess which is close to being feasible for our large-scale problem.\n",
    "By default, a JSO-compliant solver such as `trunk` (the same applies to `dci`) uses by default `nlp.meta.x0` as an initial guess."
   ],
   "metadata": {}
  },
  {
   "outputs": [],
   "cell_type": "code",
   "source": [
    "using JSOSolvers, NLPModelsModifiers\n",
    "\n",
    "nls = FeasibilityResidual(nlp)\n",
    "stats_trunk = trunk(nls)"
   ],
   "metadata": {},
   "execution_count": null
  },
  {
   "cell_type": "markdown",
   "source": [
    "We check the solution from the stats returned by `trunk`:"
   ],
   "metadata": {}
  },
  {
   "outputs": [],
   "cell_type": "code",
   "source": [
    "norm(cons(nlp, stats_trunk.solution))"
   ],
   "metadata": {},
   "execution_count": null
  },
  {
   "cell_type": "markdown",
   "source": [
    "We will use the solution found to initialize our solvers."
   ],
   "metadata": {}
  },
  {
   "cell_type": "markdown",
   "source": [
    "## Solve the Problem"
   ],
   "metadata": {}
  },
  {
   "cell_type": "markdown",
   "source": [
    "Finally, we are ready to solve the PDE-constrained optimization problem with a targeted tolerance of `1e-5`.\n",
    "In the following, we will use both Ipopt and DCI on our problem."
   ],
   "metadata": {}
  },
  {
   "outputs": [],
   "cell_type": "code",
   "source": [
    "using NLPModelsIpopt\n",
    "\n",
    "stats_ipopt = ipopt(nlp, x0 = stats_trunk.solution, tol = 1e-5, print_level = 0)"
   ],
   "metadata": {},
   "execution_count": null
  },
  {
   "cell_type": "markdown",
   "source": [
    "The problem was successfully solved, and we can extract the function evaluations from the stats."
   ],
   "metadata": {}
  },
  {
   "outputs": [],
   "cell_type": "code",
   "source": [
    "stats_ipopt.counters"
   ],
   "metadata": {},
   "execution_count": null
  },
  {
   "cell_type": "markdown",
   "source": [
    "Reinitialize the counters before re-solving."
   ],
   "metadata": {}
  },
  {
   "outputs": [],
   "cell_type": "code",
   "source": [
    "reset!(nlp);"
   ],
   "metadata": {},
   "execution_count": null
  },
  {
   "cell_type": "markdown",
   "source": [
    "`NullLogger` avoids printing iteration information."
   ],
   "metadata": {}
  },
  {
   "outputs": [],
   "cell_type": "code",
   "source": [
    "using DCISolver, Logging\n",
    "\n",
    "stats_dci = with_logger(NullLogger()) do\n",
    "  dci(nlp, stats_trunk.solution, atol = 1e-5, rtol = 0.0)\n",
    "end"
   ],
   "metadata": {},
   "execution_count": null
  },
  {
   "cell_type": "markdown",
   "source": [
    "The problem was successfully solved, and we can extract the function evaluations from the stats."
   ],
   "metadata": {}
  },
  {
   "outputs": [],
   "cell_type": "code",
   "source": [
    "stats_dci.counters"
   ],
   "metadata": {},
   "execution_count": null
  },
  {
   "cell_type": "markdown",
   "source": [
    "We now compare the two solvers with respect to the time spent,"
   ],
   "metadata": {}
  },
  {
   "outputs": [],
   "cell_type": "code",
   "source": [
    "stats_ipopt.elapsed_time, stats_dci.elapsed_time"
   ],
   "metadata": {},
   "execution_count": null
  },
  {
   "cell_type": "markdown",
   "source": [
    "and also check objective value, feasibility and dual feasibility of `ipopt` and `dci`."
   ],
   "metadata": {}
  },
  {
   "outputs": [],
   "cell_type": "code",
   "source": [
    "(stats_ipopt.objective, stats_ipopt.primal_feas, stats_ipopt.dual_feas),\n",
    "(stats_dci.objective, stats_dci.primal_feas, stats_dci.dual_feas)"
   ],
   "metadata": {},
   "execution_count": null
  },
  {
   "cell_type": "markdown",
   "source": [
    "Overall `DCISolver` is doing great for solving large-scale optimization problems!"
   ],
   "metadata": {}
  },
  {
   "cell_type": "markdown",
   "source": [
    "---\n",
    "\n",
    "*This notebook was generated using [Literate.jl](https://github.com/fredrikekre/Literate.jl).*"
   ],
   "metadata": {}
  }
 ],
 "nbformat_minor": 3,
 "metadata": {
  "language_info": {
   "file_extension": ".jl",
   "mimetype": "application/julia",
   "name": "julia",
   "version": "1.7.1"
  },
  "kernelspec": {
   "name": "julia-1.7",
   "display_name": "Julia 1.7.1",
   "language": "julia"
  }
 },
 "nbformat": 4
}
